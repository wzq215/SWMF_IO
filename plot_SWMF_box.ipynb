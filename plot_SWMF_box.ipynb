{
 "cells": [
  {
   "cell_type": "code",
   "execution_count": 1,
   "id": "4578af83",
   "metadata": {
    "scrolled": true
   },
   "outputs": [
    {
     "name": "stdout",
     "output_type": "stream",
     "text": [
      "Reading file: /Users/ephe/THL8/OH_THC/box_mhd_5_n00020000.out\n",
      "Variables:  ['grid', 'x', 'y', 'z', 'Rho', 'Ux', 'Uy', 'Uz', 'Bx', 'By', 'Bz', 'P', 'NeuRho', 'NeuUx', 'NeuUy', 'NeuUz', 'NeuP', 'Ne2Rho', 'Ne2Ux', 'Ne2Uy', 'Ne2Uz', 'Ne2P', 'Ne3Rho', 'Ne3Ux', 'Ne3Uy', 'Ne3Uz', 'Ne3P', 'Ne4Rho', 'Ne4Ux', 'Ne4Uy', 'Ne4Uz', 'Ne4P', 'jx', 'jy', 'jz']\n",
      "Units:  ['AU', 'AU', 'amu/cc', 'km/s', 'km/s', 'km/s', 'nT', 'nT', 'nT', 'dyne/cm^2', 'amu/cc', 'km/s', 'km/s', 'km/s', 'dyne/cm^2', 'amu/cc', 'km/s', 'km/s', 'km/s', 'dyne/cm^2', 'amu/cc', 'km/s', 'km/s', 'km/s', 'dyne/cm^2', 'amu/cc', 'km/s', 'km/s', 'km/s', 'dyne/cm^2', 'uA/m^2', 'uA/m^2', 'uA/m^2']\n",
      "(-300.0, -600.0, -600.0)\n",
      "(5.0, 12.0, 12.0)\n",
      "0.0 0.09194774\n"
     ]
    }
   ],
   "source": [
    "'''\n",
    "Aim: To visualize SWMF 3d data with pyvista volume rendering.\n",
    "Modified for OH Data\n",
    "Revised 23/03/10\n",
    "'''\n",
    "\n",
    "import numpy as np\n",
    "import matplotlib.pyplot as plt\n",
    "import imageio\n",
    "import pyvista\n",
    "from spacepy.pybats import IdlFile\n",
    "\n",
    "# from plot_SWMF_Bxyz import Trace_in_box\n",
    "k_b = 1.38e-23\n",
    "\n",
    "\n",
    "\n",
    "def Trace_in_box(data_box, src_radius=100, n_src_points=100,max_time=1000.):\n",
    "    # r,lon,lat = np.array(data_shl['r']),np.deg2rad(np.array(data_shl['lon'])),np.deg2rad(np.array(data_shl['lat']))\n",
    "    x, y, z = np.array(data_box['x']), np.array(data_box['y']), np.array(data_box['z'])\n",
    "    Bx, By, Bz = np.array(data_box['Bx']), np.array(data_box['By']), np.array(data_box['Bz'])\n",
    "\n",
    "    xv, yv, zv = np.meshgrid(x, y, z, indexing='ij')\n",
    "\n",
    "    mesh = pyvista.StructuredGrid(xv, yv, zv)\n",
    "\n",
    "    vectors = np.empty((mesh.n_points, 3))\n",
    "    vectors[:, 0] = Bx.ravel(order='F')\n",
    "    vectors[:, 1] = By.ravel(order='F')\n",
    "    vectors[:, 2] = Bz.ravel(order='F')\n",
    "    mesh['vectors'] = vectors\n",
    "    streams = []\n",
    "    stream, src = mesh.streamlines('vectors', return_source=True, source_radius=src_radius, n_points=n_src_points,\n",
    "                                   progress_bar=True,\n",
    "                                   integration_direction='both', max_time=max_time)\n",
    "    streams.append(stream)\n",
    "\n",
    "    return stream\n",
    "\n",
    "def Trace_in_box_from_targets(data_box, pos_target,max_time=1000.,direction='both'):\n",
    "\n",
    "    x, y, z = np.array(data_box['x']), np.array(data_box['y']), np.array(data_box['z'])\n",
    "    Bx, By, Bz = np.array(data_box['Bx']), np.array(data_box['By']), np.array(data_box['Bz'])\n",
    "\n",
    "    xv, yv, zv = np.meshgrid(x, y, z, indexing='ij')\n",
    "\n",
    "    mesh = pyvista.StructuredGrid(xv, yv, zv)\n",
    "\n",
    "    vectors = np.empty((mesh.n_points, 3))\n",
    "    vectors[:, 0] = Bx.ravel(order='F')\n",
    "    vectors[:, 1] = By.ravel(order='F')\n",
    "    vectors[:, 2] = Bz.ravel(order='F')\n",
    "    mesh['vectors'] = vectors\n",
    "    # streams = []\n",
    "    # stream, src = mesh.streamlines('vectors', return_source=True, source_radius=src_radius, n_points=n_src_points,\n",
    "    #                                progress_bar=True,\n",
    "    #                                integration_direction='both', max_time=max_time)\n",
    "    # streams.append(stream)\n",
    "    streams = []\n",
    "\n",
    "    for i in range(len(pos_target)):\n",
    "        start_point = pos_target[i]\n",
    "        stream = mesh.streamlines('vectors', progress_bar=True, start_position=start_point, return_source=False,\n",
    "                              integration_direction=direction,\n",
    "                              max_time=max_time)\n",
    "        streams.append(stream)\n",
    "\n",
    "    return streams\n",
    "\n",
    "if __name__ == '__main__':\n",
    "    # %%\n",
    "    data_path = '/Users/ephe/THL8/OH_THC/'\n",
    "    file_type = 'box_mhd_5_'\n",
    "    n_iter = 20000\n",
    "    n_time = None\n",
    "\n",
    "    filename = file_type + 'n' + str(int(n_iter)).zfill(8)\n",
    "\n",
    "    print('Reading file: '+data_path + filename + '.out')\n",
    "    data_box = IdlFile(data_path + filename + '.out')\n",
    "    var_list = list(data_box.keys())\n",
    "    unit_list = data_box.meta['header'].split()[1:]\n",
    "    print('Variables: ', var_list)\n",
    "    print('Units: ', unit_list)\n",
    "    x = data_box['x']\n",
    "    y = data_box['y']\n",
    "    z = data_box['z']\n",
    "    dimensions = data_box['grid']\n",
    "    spacing = (abs(x[1] - x[0]), abs(y[1] - y[0]), abs(z[1] - z[0]))\n",
    "    origin = (x[0], y[0], z[0])\n",
    "    print(origin)\n",
    "    print(spacing)\n",
    "\n",
    "#     data_rho = data_box['Rho']\n",
    "#     data_p = data_box['P']\n",
    "#     data_T = (data_p / 10) / k_b / (2 * data_rho * 1e6)\n",
    "#     var_str = 'T [K]'\n",
    "#     plot_data = data_T\n",
    "\n",
    "    var_str = 'Rho [amu/cc]'\n",
    "    plot_data = np.array(data_box['Rho'])\n",
    "    \n",
    "    cmin = plot_data.min()\n",
    "    cmax = plot_data.max()\n",
    "    print(cmin,cmax)\n",
    "\n",
    "    box_grid = pyvista.UniformGrid(dimensions=(dimensions[0], dimensions[1], dimensions[2]), spacing=spacing,\n",
    "                                   origin=origin)\n",
    "    box_grid.point_data[var_str] = plot_data.ravel('F')\n"
   ]
  },
  {
   "cell_type": "code",
   "execution_count": 8,
   "outputs": [
    {
     "name": "stderr",
     "output_type": "stream",
     "text": [
      "Generating Streamlines: 100%|██████████[00:00<00:00]\n",
      "Generating Streamlines: 100%|██████████[00:00<00:00]\n"
     ]
    }
   ],
   "source": [
    "    # stream_outer = Trace_in_box(data_box,src_radius=300.,n_src_points=100,max_time=1000.)\n",
    "    # stream_inner = Trace_in_box(data_box,src_radius=50.,n_src_points=100,max_time=1000.)"
   ],
   "metadata": {
    "collapsed": false
   }
  },
  {
   "cell_type": "code",
   "execution_count": 81,
   "outputs": [
    {
     "name": "stderr",
     "output_type": "stream",
     "text": [
      "Generating Streamlines: 100%|██████████[00:00<00:00]\n",
      "Generating Streamlines: 100%|██████████[00:00<00:00]\n",
      "Generating Streamlines: 100%|██████████[00:00<00:00]\n",
      "Generating Streamlines: 100%|██████████[00:00<00:00]\n",
      "Generating Streamlines: 100%|██████████[00:00<00:00]\n",
      "Generating Streamlines: 100%|██████████[00:00<00:00]\n",
      "Generating Streamlines: 100%|██████████[00:00<00:00]\n",
      "Generating Streamlines: 100%|██████████[00:00<00:00]\n",
      "Generating Streamlines: 100%|██████████[00:00<00:00]\n",
      "Generating Streamlines: 100%|██████████[00:00<00:00]\n",
      "Generating Streamlines: 100%|██████████[00:00<00:00]\n",
      "Generating Streamlines: 100%|██████████[00:00<00:00]\n",
      "Generating Streamlines: 100%|██████████[00:00<00:00]\n",
      "Generating Streamlines: 100%|██████████[00:00<00:00]\n",
      "Generating Streamlines: 100%|██████████[00:00<00:00]\n",
      "Generating Streamlines: 100%|██████████[00:00<00:00]\n",
      "Generating Streamlines: 100%|██████████[00:00<00:00]\n",
      "Generating Streamlines: 100%|██████████[00:00<00:00]\n",
      "Generating Streamlines: 100%|██████████[00:00<00:00]\n",
      "Generating Streamlines: 100%|██████████[00:00<00:00]\n",
      "Generating Streamlines: 100%|██████████[00:00<00:00]\n",
      "Generating Streamlines: 100%|██████████[00:00<00:00]\n",
      "Generating Streamlines: 100%|██████████[00:00<00:00]\n",
      "Generating Streamlines: 100%|██████████[00:00<00:00]\n",
      "Generating Streamlines: 100%|██████████[00:00<00:00]\n",
      "Generating Streamlines: 100%|██████████[00:00<00:00]\n",
      "Generating Streamlines: 100%|██████████[00:00<00:00]\n",
      "Generating Streamlines: 100%|██████████[00:00<00:00]\n",
      "Generating Streamlines: 100%|██████████[00:00<00:00]\n",
      "Generating Streamlines: 100%|██████████[00:00<00:00]\n",
      "Generating Streamlines: 100%|██████████[00:00<00:00]\n",
      "Generating Streamlines: 100%|██████████[00:00<00:00]\n",
      "Generating Streamlines: 100%|██████████[00:00<00:00]\n",
      "Generating Streamlines: 100%|██████████[00:00<00:00]\n",
      "Generating Streamlines: 100%|██████████[00:00<00:00]\n",
      "Generating Streamlines: 100%|██████████[00:00<00:00]\n",
      "Generating Streamlines: 100%|██████████[00:00<00:00]\n",
      "Generating Streamlines: 100%|██████████[00:00<00:00]\n",
      "Generating Streamlines: 100%|██████████[00:00<00:00]\n",
      "Generating Streamlines: 100%|██████████[00:00<00:00]\n",
      "Generating Streamlines: 100%|██████████[00:00<00:00]\n",
      "Generating Streamlines: 100%|██████████[00:00<00:00]\n",
      "Generating Streamlines: 100%|██████████[00:00<00:00]\n",
      "Generating Streamlines: 100%|██████████[00:00<00:00]\n",
      "Generating Streamlines: 100%|██████████[00:00<00:00]\n",
      "Generating Streamlines: 100%|██████████[00:00<00:00]\n",
      "Generating Streamlines: 100%|██████████[00:00<00:00]\n",
      "Generating Streamlines: 100%|██████████[00:00<00:00]\n",
      "Generating Streamlines: 100%|██████████[00:00<00:00]\n",
      "Generating Streamlines: 100%|██████████[00:00<00:00]\n",
      "Generating Streamlines: 100%|██████████[00:00<00:00]\n",
      "Generating Streamlines: 100%|██████████[00:00<00:00]\n",
      "Generating Streamlines: 100%|██████████[00:00<00:00]\n",
      "Generating Streamlines: 100%|██████████[00:00<00:00]\n",
      "Generating Streamlines: 100%|██████████[00:00<00:00]\n",
      "Generating Streamlines: 100%|██████████[00:00<00:00]\n",
      "Generating Streamlines: 100%|██████████[00:00<00:00]\n",
      "Generating Streamlines: 100%|██████████[00:00<00:00]\n",
      "Generating Streamlines: 100%|██████████[00:00<00:00]\n",
      "Generating Streamlines: 100%|██████████[00:00<00:00]\n",
      "Generating Streamlines: 100%|██████████[00:00<00:00]\n",
      "Generating Streamlines: 100%|██████████[00:00<00:00]\n",
      "Generating Streamlines: 100%|██████████[00:00<00:00]\n",
      "Generating Streamlines: 100%|██████████[00:00<00:00]\n",
      "Generating Streamlines: 100%|██████████[00:00<00:00]\n",
      "Generating Streamlines: 100%|██████████[00:00<00:00]\n",
      "Generating Streamlines: 100%|██████████[00:00<00:00]\n",
      "Generating Streamlines: 100%|██████████[00:00<00:00]\n",
      "Generating Streamlines: 100%|██████████[00:00<00:00]\n",
      "Generating Streamlines: 100%|██████████[00:00<00:00]\n",
      "Generating Streamlines: 100%|██████████[00:00<00:00]\n",
      "Generating Streamlines: 100%|██████████[00:00<00:00]\n",
      "Generating Streamlines: 100%|██████████[00:00<00:00]\n",
      "Generating Streamlines: 100%|██████████[00:00<00:00]\n",
      "Generating Streamlines: 100%|██████████[00:00<00:00]\n",
      "Generating Streamlines: 100%|██████████[00:00<00:00]\n",
      "Generating Streamlines: 100%|██████████[00:00<00:00]\n",
      "Generating Streamlines: 100%|██████████[00:00<00:00]\n",
      "Generating Streamlines: 100%|██████████[00:00<00:00]\n",
      "Generating Streamlines: 100%|██████████[00:00<00:00]\n"
     ]
    }
   ],
   "source": [
    "    n_point = 80\n",
    "    latitudes = np.deg2rad(np.random.uniform(low=-90., high=90., size=n_point))\n",
    "    longitudes = np.deg2rad(np.random.uniform(low=0., high=360, size=n_point))\n",
    "    radius = 300.\n",
    "    start_points = [[radius*np.cos(latitudes[i])*np.cos(longitudes[i]), radius*np.cos(latitudes[i])*np.sin(longitudes[i]), radius*np.sin(latitudes[i])] for i in range(n_point)]\n",
    "\n",
    "    pos_target = start_points\n",
    "    stream_outer = Trace_in_box_from_targets(data_box,pos_target,max_time=5000.,direction='both')\n",
    "\n"
   ],
   "metadata": {
    "collapsed": false
   }
  },
  {
   "cell_type": "code",
   "execution_count": 103,
   "outputs": [
    {
     "name": "stderr",
     "output_type": "stream",
     "text": [
      "Generating Streamlines: 100%|██████████[00:00<00:00]\n",
      "Generating Streamlines: 100%|██████████[00:00<00:00]\n",
      "Generating Streamlines: 100%|██████████[00:00<00:00]\n",
      "Generating Streamlines: 100%|██████████[00:00<00:00]\n",
      "Generating Streamlines: 100%|██████████[00:00<00:00]\n",
      "Generating Streamlines: 100%|██████████[00:00<00:00]\n",
      "Generating Streamlines: 100%|██████████[00:00<00:00]\n",
      "Generating Streamlines: 100%|██████████[00:00<00:00]\n",
      "Generating Streamlines: 100%|██████████[00:00<00:00]\n",
      "Generating Streamlines: 100%|██████████[00:00<00:00]\n",
      "Generating Streamlines: 100%|██████████[00:00<00:00]\n"
     ]
    }
   ],
   "source": [
    "    n_point_inner = 11\n",
    "    latitudes = np.deg2rad(np.random.uniform(low=-75., high=75., size=n_point_inner))\n",
    "    latitudes = np.deg2rad([-80,-60,-45,-30,-15,0,15,30,45,60,80,])\n",
    "    longitudes = np.deg2rad(np.random.uniform(low=0., high=360, size=n_point_inner))\n",
    "    radius = 80.\n",
    "    start_points = [[radius*np.cos(latitudes[i])*np.cos(longitudes[i]), radius*np.cos(latitudes[i])*np.sin(longitudes[i]), radius*np.sin(latitudes[i])] for i in range(n_point_inner)]\n",
    "\n",
    "    pos_target = [[50,0,0],[50,0,50]]\n",
    "    pos_target = start_points\n",
    "    stream_inner = Trace_in_box_from_targets(data_box,pos_target,max_time=10000.,direction='backward')"
   ],
   "metadata": {
    "collapsed": false
   }
  },
  {
   "cell_type": "code",
   "execution_count": 1,
   "outputs": [
    {
     "ename": "NameError",
     "evalue": "name 'pyvista' is not defined",
     "output_type": "error",
     "traceback": [
      "\u001B[0;31m---------------------------------------------------------------------------\u001B[0m",
      "\u001B[0;31mNameError\u001B[0m                                 Traceback (most recent call last)",
      "\u001B[0;32m/var/folders/nc/51nc2wxs2jx_sdsrc05fw1300000gn/T/ipykernel_49857/2538780807.py\u001B[0m in \u001B[0;36m<module>\u001B[0;34m\u001B[0m\n\u001B[0;32m----> 1\u001B[0;31m \u001B[0mpyvista\u001B[0m\u001B[0;34m.\u001B[0m\u001B[0mjupyter_backend\u001B[0m\u001B[0;34m=\u001B[0m\u001B[0;34m'panel'\u001B[0m\u001B[0;34m\u001B[0m\u001B[0;34m\u001B[0m\u001B[0m\n\u001B[0m\u001B[1;32m      2\u001B[0m \u001B[0mp\u001B[0m \u001B[0;34m=\u001B[0m \u001B[0mpyvista\u001B[0m\u001B[0;34m.\u001B[0m\u001B[0mPlotter\u001B[0m\u001B[0;34m(\u001B[0m\u001B[0mnotebook\u001B[0m\u001B[0;34m=\u001B[0m\u001B[0;32mTrue\u001B[0m\u001B[0;34m,\u001B[0m\u001B[0mwindow_size\u001B[0m\u001B[0;34m=\u001B[0m\u001B[0;34m(\u001B[0m\u001B[0;36m1024\u001B[0m\u001B[0;34m,\u001B[0m\u001B[0;36m768\u001B[0m\u001B[0;34m)\u001B[0m\u001B[0;34m)\u001B[0m\u001B[0;34m\u001B[0m\u001B[0;34m\u001B[0m\u001B[0m\n\u001B[1;32m      3\u001B[0m \u001B[0;34m\u001B[0m\u001B[0m\n\u001B[1;32m      4\u001B[0m vol = p.add_volume(box_grid, cmap='magma',\n\u001B[1;32m      5\u001B[0m                    \u001B[0mclim\u001B[0m\u001B[0;34m=\u001B[0m\u001B[0;34m[\u001B[0m\u001B[0;36m1e-4\u001B[0m\u001B[0;34m,\u001B[0m \u001B[0;36m1e-2\u001B[0m\u001B[0;34m]\u001B[0m\u001B[0;34m,\u001B[0m  \u001B[0;31m# Change Colorbar\u001B[0m\u001B[0;34m\u001B[0m\u001B[0;34m\u001B[0m\u001B[0m\n",
      "\u001B[0;31mNameError\u001B[0m: name 'pyvista' is not defined"
     ]
    }
   ],
   "source": [
    "    pyvista.jupyter_backend='panel'\n",
    "    p = pyvista.Plotter(notebook=True,window_size=(1024,768))\n",
    "\n",
    "    vol = p.add_volume(box_grid, cmap='magma',\n",
    "                       clim=[1e-4, 1e-2],  # Change Colorbar\n",
    "                       opacity=(0., .5, 0.),  # Change Opacity Mask\n",
    "                       opacity_unit_distance=150)  # 调整透明的程度\n",
    "\n",
    "    for i in range(n_point):\n",
    "        p.add_mesh(stream_outer[i].tube(radius=1.), color='green')\n",
    "    for i in range(n_point_inner):\n",
    "        p.add_mesh(stream_inner[i].tube(radius=1.), color='silver')\n",
    "\n",
    "    p.set_background(\"white\")\n",
    "\n",
    "    # p.show_grid(xlabel='X [AU]', ylabel='Y [AU]', zlabel='Z [AU]',font_size=10) #!!!!!这个命令不起作用\n",
    "    p.add_axes(xlabel='X',ylabel='Y',zlabel='Z')\n",
    "    p.export_html(data_path + 'sample.html',backend='panel')\n",
    "    p.show(jupyter_backend='panel')\n",
    "\n"
   ],
   "metadata": {
    "collapsed": false
   }
  },
  {
   "cell_type": "markdown",
   "source": [],
   "metadata": {
    "collapsed": false
   }
  },
  {
   "cell_type": "code",
   "execution_count": null,
   "outputs": [],
   "source": [],
   "metadata": {
    "collapsed": false
   }
  }
 ],
 "metadata": {
  "kernelspec": {
   "display_name": "Python 3 (ipykernel)",
   "language": "python",
   "name": "python3"
  },
  "language_info": {
   "codemirror_mode": {
    "name": "ipython",
    "version": 3
   },
   "file_extension": ".py",
   "mimetype": "text/x-python",
   "name": "python",
   "nbconvert_exporter": "python",
   "pygments_lexer": "ipython3",
   "version": "3.9.7"
  }
 },
 "nbformat": 4,
 "nbformat_minor": 5
}
